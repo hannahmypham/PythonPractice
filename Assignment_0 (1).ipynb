{
 "cells": [
  {
   "cell_type": "markdown",
   "id": "2dc7d950-6cac-4b07-be44-f88680e68d0f",
   "metadata": {
    "deletable": false,
    "editable": false,
    "nbgrader": {
     "cell_type": "markdown",
     "checksum": "73165eb654b0c31764647452b758c421",
     "grade": false,
     "grade_id": "cell-5de12883a1df1804",
     "locked": true,
     "schema_version": 3,
     "solution": false,
     "task": false
    }
   },
   "source": [
    "### This is Assignment_0. The purpose of this assignment is to help you get familiar with assignment notebooks, datahub and assignment submission."
   ]
  },
  {
   "cell_type": "markdown",
   "id": "b27f764e-e24d-41da-8db8-3c14a69acd1d",
   "metadata": {
    "deletable": false,
    "editable": false,
    "nbgrader": {
     "cell_type": "markdown",
     "checksum": "55b97916026017190d1c6168abaf1c23",
     "grade": false,
     "grade_id": "cell-80b0bbede07f4f72",
     "locked": true,
     "schema_version": 3,
     "solution": false,
     "task": false
    }
   },
   "source": [
    "#### Submission Guidelines:\n",
    "1. Save and run all the cells of this notebook before submitting.\n",
    "2. Use the Validate button located on the jupyter notebook toolbar to check your solution. If the solution passes all the tests, a success pop-up will show. Otherwise, a pop-up will show which cells have failed.\n",
    "4. You will be able to test your work on the local test cases by running the cell with assertion commands.\n",
    "5. There are \"Hidden Test Blocks\" which will test the solutions on hidden test cases. Make sure to run all the blocks to ensure the test cases are tested.\n",
    "6. Once you are done with your code, you should save the notebook and submit it in the assignment section on datahub. Ensure that you submit your assignment using the \"Submit\" button on the Assignment section.\n",
    "7. To download the file as an .py, navigate to File -> Download as -> .py\n",
    "8. Plagiarism and AI similarity check will be conducted.\n"
   ]
  },
  {
   "cell_type": "markdown",
   "id": "7d7cac0e-2b4d-47e7-b135-4db3f9237b07",
   "metadata": {
    "deletable": false,
    "editable": false,
    "nbgrader": {
     "cell_type": "markdown",
     "checksum": "1fd78d63d075b83fde456372987ae568",
     "grade": false,
     "grade_id": "cell-02dad3a793be6726",
     "locked": true,
     "schema_version": 3,
     "solution": false,
     "task": false
    }
   },
   "source": [
    "##### Q1: Count Occurrences of Characters in a String\n",
    "##### Complete the function 'char_count' that takes a string 's' and returns a dictionary with the count of each character in the string.\n"
   ]
  },
  {
   "cell_type": "code",
   "execution_count": 1,
   "id": "b919be0b-bf66-4d69-b4ba-e11546ffa5bb",
   "metadata": {
    "deletable": false,
    "nbgrader": {
     "cell_type": "code",
     "checksum": "74a0b017043933c2d664239d0f8158c9",
     "grade": true,
     "grade_id": "cell-8b0dda2fe66089ee",
     "locked": false,
     "points": 2,
     "schema_version": 3,
     "solution": true,
     "task": false
    }
   },
   "outputs": [],
   "source": [
    "def char_count(s):\n",
    "    letter_count = {}\n",
    "    for item in s:\n",
    "        letter_count[item] = s.count(item)\n",
    "    return(letter_count)\n",
    "    raise NotImplementedError()"
   ]
  },
  {
   "cell_type": "code",
   "execution_count": 2,
   "id": "90141a14-3fdd-4a2d-be6e-4ad0218ad466",
   "metadata": {
    "deletable": false,
    "editable": false,
    "nbgrader": {
     "cell_type": "code",
     "checksum": "f1ee27e40dadd4ada12134ebfe912494",
     "grade": true,
     "grade_id": "cell-9f050990e62a15a3",
     "locked": true,
     "points": 2,
     "schema_version": 3,
     "solution": false,
     "task": false
    }
   },
   "outputs": [],
   "source": [
    "assert char_count(\"data science\") == {'d': 1, 'a': 2, 't': 1, ' ': 1, 's': 1, 'c': 2, 'i': 1, 'e': 2, 'n': 1}"
   ]
  },
  {
   "cell_type": "code",
   "execution_count": 3,
   "id": "e0f2a159-22ec-47fd-bf49-dd0d067f9ae4",
   "metadata": {
    "deletable": false,
    "editable": false,
    "nbgrader": {
     "cell_type": "code",
     "checksum": "32b75edafa2d70196e164b858f98eaf5",
     "grade": true,
     "grade_id": "cell-b2fb9b09de8291f7",
     "locked": true,
     "points": 2,
     "schema_version": 3,
     "solution": false,
     "task": false
    }
   },
   "outputs": [],
   "source": [
    "assert char_count(\"DSC 200\") == {'D': 1, 'S': 1, 'C': 1, ' ': 1, '2': 1, '0': 2}"
   ]
  },
  {
   "cell_type": "code",
   "execution_count": 4,
   "id": "f1447532-16b0-4aed-9e02-1c89c0418323",
   "metadata": {
    "deletable": false,
    "editable": false,
    "nbgrader": {
     "cell_type": "code",
     "checksum": "bbdbdbde018bca14050536a76f4d3a28",
     "grade": true,
     "grade_id": "cell-6f9c7668909cfde8",
     "locked": true,
     "points": 2,
     "schema_version": 3,
     "solution": false,
     "task": false
    }
   },
   "outputs": [],
   "source": [
    "# Hidden test case 1."
   ]
  },
  {
   "cell_type": "code",
   "execution_count": 5,
   "id": "b083a9d8-3fd9-4170-9990-323c6ff5c644",
   "metadata": {
    "deletable": false,
    "editable": false,
    "nbgrader": {
     "cell_type": "code",
     "checksum": "f66c46a4db4111d4e0e5ac6307750ee3",
     "grade": true,
     "grade_id": "cell-2e2b1983a2dba5e6",
     "locked": true,
     "points": 2,
     "schema_version": 3,
     "solution": false,
     "task": false
    }
   },
   "outputs": [],
   "source": [
    "# Hidden test case 2."
   ]
  },
  {
   "cell_type": "markdown",
   "id": "b5f9758e-24bb-474d-915a-fb189825ae86",
   "metadata": {
    "deletable": false,
    "editable": false,
    "nbgrader": {
     "cell_type": "markdown",
     "checksum": "1dd0a5f845337031ef741e3fcd1863be",
     "grade": false,
     "grade_id": "cell-99a43827d379bece",
     "locked": true,
     "schema_version": 3,
     "solution": false,
     "task": false
    }
   },
   "source": [
    "##### Q2: Filter Even Numbers from a List\n",
    "##### Complete the function 'filter_even_numbers' that takes a list of integers 'nums' and returns a new list containing only the even numbers.\n"
   ]
  },
  {
   "cell_type": "code",
   "execution_count": 6,
   "id": "f6844289-1e60-4ae8-be72-c76c28820446",
   "metadata": {
    "deletable": false,
    "nbgrader": {
     "cell_type": "code",
     "checksum": "82d51f71212de5d640062237c539f38e",
     "grade": true,
     "grade_id": "cell-c4791a89eb1b344b",
     "locked": false,
     "points": 2,
     "schema_version": 3,
     "solution": true,
     "task": false
    }
   },
   "outputs": [],
   "source": [
    "def filter_even_numbers(nums):\n",
    "    even_num = []\n",
    "    for item in nums:\n",
    "        if item % 2 == 0:\n",
    "            even_num.append(item)\n",
    "        else:\n",
    "            even_num\n",
    "    return(even_num)\n",
    "    raise NotImplementedError()"
   ]
  },
  {
   "cell_type": "code",
   "execution_count": 7,
   "id": "bd6c7f0b-ff41-4da9-8e6b-59cda71554e7",
   "metadata": {
    "deletable": false,
    "editable": false,
    "nbgrader": {
     "cell_type": "code",
     "checksum": "3bdfa7060e0d08bc8c1f0206dc027a42",
     "grade": true,
     "grade_id": "cell-3e057532502b5f9b",
     "locked": true,
     "points": 2,
     "schema_version": 3,
     "solution": false,
     "task": false
    }
   },
   "outputs": [],
   "source": [
    "assert filter_even_numbers([7, 8, 10, 13]) == [8, 10]"
   ]
  },
  {
   "cell_type": "code",
   "execution_count": 8,
   "id": "db80bb8b-488b-4cc7-8156-1d9fc64b12ac",
   "metadata": {
    "deletable": false,
    "editable": false,
    "nbgrader": {
     "cell_type": "code",
     "checksum": "88e241f583bda6be0d13f3842ccc59ef",
     "grade": true,
     "grade_id": "cell-22bc7f10d0c30a33",
     "locked": true,
     "points": 2,
     "schema_version": 3,
     "solution": false,
     "task": false
    }
   },
   "outputs": [],
   "source": [
    "assert filter_even_numbers([1, 3, 5]) == []"
   ]
  },
  {
   "cell_type": "code",
   "execution_count": 9,
   "id": "ae388c2e-79e8-4ab4-aed4-1515cb5cbec6",
   "metadata": {
    "deletable": false,
    "editable": false,
    "nbgrader": {
     "cell_type": "code",
     "checksum": "f50b874e5dc0fa6784ffde10f68f8a9f",
     "grade": true,
     "grade_id": "cell-6d66833b2d347cfc",
     "locked": true,
     "points": 2,
     "schema_version": 3,
     "solution": false,
     "task": false
    }
   },
   "outputs": [],
   "source": [
    "# Hidden test case 1."
   ]
  },
  {
   "cell_type": "code",
   "execution_count": 10,
   "id": "75ffa36a-ae7f-41fe-990d-94a794f53867",
   "metadata": {
    "deletable": false,
    "editable": false,
    "nbgrader": {
     "cell_type": "code",
     "checksum": "01e1a4bb40bf1e2aa2e9c2359af34cfa",
     "grade": true,
     "grade_id": "cell-7246dbffee8dfedb",
     "locked": true,
     "points": 2,
     "schema_version": 3,
     "solution": false,
     "task": false
    }
   },
   "outputs": [],
   "source": [
    "# Hidden test case 2."
   ]
  },
  {
   "cell_type": "markdown",
   "id": "18306f15-f68b-4aca-8660-f857f4630068",
   "metadata": {
    "deletable": false,
    "editable": false,
    "nbgrader": {
     "cell_type": "markdown",
     "checksum": "ec4f9a64865bd51eaa38a6e726d36e4a",
     "grade": false,
     "grade_id": "cell-a35c39ab13dc1ef6",
     "locked": true,
     "schema_version": 3,
     "solution": false,
     "task": false
    }
   },
   "source": [
    "##### Q3: Find Common Elements Between Two Lists\n",
    "##### Complete the function that takes two lists of integers ('list1' and 'list2') and returns a list of common elements between them.\n"
   ]
  },
  {
   "cell_type": "code",
   "execution_count": 11,
   "id": "48cd95d1-ed20-4825-863e-20d43b48c310",
   "metadata": {
    "deletable": false,
    "nbgrader": {
     "cell_type": "code",
     "checksum": "130e49dcd8a57f2c30f37699174b0172",
     "grade": true,
     "grade_id": "cell-0d0b22056d9df845",
     "locked": false,
     "points": 2,
     "schema_version": 3,
     "solution": true,
     "task": false
    }
   },
   "outputs": [],
   "source": [
    "def common_elements(list1, list2):\n",
    "    value = []\n",
    "    for item1 in list1:\n",
    "        for item2 in list2:\n",
    "            if item1 == item2:\n",
    "                value.append(item1)\n",
    "            else: \n",
    "                value\n",
    "    return(value)\n",
    "    raise NotImplementedError()"
   ]
  },
  {
   "cell_type": "code",
   "execution_count": 12,
   "id": "104fb718-6405-4158-97e8-fe5010c30c96",
   "metadata": {
    "deletable": false,
    "editable": false,
    "nbgrader": {
     "cell_type": "code",
     "checksum": "596057e68db55949f9d1d14c7552073b",
     "grade": true,
     "grade_id": "cell-878c32ea72004c55",
     "locked": true,
     "points": 2,
     "schema_version": 3,
     "solution": false,
     "task": false
    }
   },
   "outputs": [],
   "source": [
    "assert set(common_elements([7, 8, 9], [10, 8, 7])) == {8, 7}"
   ]
  },
  {
   "cell_type": "code",
   "execution_count": 13,
   "id": "e344d3d2-7162-453f-8b27-ac1add93bdeb",
   "metadata": {
    "deletable": false,
    "editable": false,
    "nbgrader": {
     "cell_type": "code",
     "checksum": "3ed1e1d7787a24da0262f7c7d525ec6f",
     "grade": true,
     "grade_id": "cell-bcff1fa76baa7064",
     "locked": true,
     "points": 2,
     "schema_version": 3,
     "solution": false,
     "task": false
    }
   },
   "outputs": [],
   "source": [
    "assert common_elements([1, 2, 3], [4, 5, 6]) == []"
   ]
  },
  {
   "cell_type": "code",
   "execution_count": 14,
   "id": "e986f224-8547-49e8-b2c2-b8b28f79c927",
   "metadata": {
    "deletable": false,
    "editable": false,
    "nbgrader": {
     "cell_type": "code",
     "checksum": "39a02849a1dcb3a19e49fb547aa78910",
     "grade": true,
     "grade_id": "cell-0a42fad61865ba6a",
     "locked": true,
     "points": 2,
     "schema_version": 3,
     "solution": false,
     "task": false
    }
   },
   "outputs": [],
   "source": [
    "# Hidden test case 1."
   ]
  },
  {
   "cell_type": "code",
   "execution_count": 15,
   "id": "0ea921ba-2fe3-489f-80b9-f39f422fc2a8",
   "metadata": {
    "deletable": false,
    "editable": false,
    "nbgrader": {
     "cell_type": "code",
     "checksum": "bcaba3e5ebe96ec0bc2741723fb4b7cd",
     "grade": true,
     "grade_id": "cell-b195443e9af04608",
     "locked": true,
     "points": 2,
     "schema_version": 3,
     "solution": false,
     "task": false
    }
   },
   "outputs": [],
   "source": [
    "# Hidden test case 2."
   ]
  },
  {
   "cell_type": "code",
   "execution_count": null,
   "id": "27233bc6-28ae-4f31-868a-5edbb8e1af57",
   "metadata": {},
   "outputs": [],
   "source": []
  },
  {
   "cell_type": "code",
   "execution_count": null,
   "id": "a5c8dd25-f322-4e2f-bf5e-ec9bd934d2b2",
   "metadata": {},
   "outputs": [],
   "source": []
  },
  {
   "cell_type": "code",
   "execution_count": null,
   "id": "74955ad9-2e85-4ad1-8978-3914e4c1ec75",
   "metadata": {},
   "outputs": [],
   "source": []
  }
 ],
 "metadata": {
  "kernelspec": {
   "display_name": "Python 3 (ipykernel)",
   "language": "python",
   "name": "python3"
  },
  "language_info": {
   "codemirror_mode": {
    "name": "ipython",
    "version": 3
   },
   "file_extension": ".py",
   "mimetype": "text/x-python",
   "name": "python",
   "nbconvert_exporter": "python",
   "pygments_lexer": "ipython3",
   "version": "3.11.9"
  }
 },
 "nbformat": 4,
 "nbformat_minor": 5
}
