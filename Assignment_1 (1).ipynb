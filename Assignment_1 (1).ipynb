{
 "cells": [
  {
   "cell_type": "markdown",
   "id": "b27f764e-e24d-41da-8db8-3c14a69acd1d",
   "metadata": {
    "deletable": false,
    "editable": false,
    "nbgrader": {
     "checksum": "55b97916026017190d1c6168abaf1c23",
     "grade": false,
     "grade_id": "cell-80b0bbede07f4f72",
     "locked": true,
     "schema_version": 3,
     "solution": false,
     "task": false
    }
   },
   "source": [
    "#### Submission Guidelines:\n",
    "1. Save and run all the cells of this notebook before submitting.\n",
    "2. Use the Validate button located on the jupyter notebook toolbar to check your solution. If the solution passes all the tests, a success pop-up will show. Otherwise, a pop-up will show which cells have failed.\n",
    "4. You will be able to test your work on the local test cases by running the cell with assertion commands.\n",
    "5. There are \"Hidden Test Blocks\" which will test the solutions on hidden test cases. Make sure to run all the blocks to ensure the test cases are tested.\n",
    "6. Once you are done with your code, you should save the notebook and submit it in the assignment section on datahub. Ensure that you submit your assignment using the \"Submit\" button on the Assignment section.\n",
    "7. To download the file as an .py, navigate to File -> Download as -> .py\n",
    "8. Plagiarism and AI similarity check will be conducted.\n"
   ]
  },
  {
   "cell_type": "markdown",
   "id": "2dc7d950-6cac-4b07-be44-f88680e68d0f",
   "metadata": {
    "deletable": false,
    "editable": false,
    "nbgrader": {
     "checksum": "b018fc3e84a24e49eb3d947656d7ff2b",
     "grade": false,
     "grade_id": "cell-5de12883a1df1804",
     "locked": true,
     "schema_version": 3,
     "solution": false,
     "task": false
    }
   },
   "source": [
    "### Assignment_1"
   ]
  },
  {
   "cell_type": "markdown",
   "id": "7d7cac0e-2b4d-47e7-b135-4db3f9237b07",
   "metadata": {
    "deletable": false,
    "editable": false,
    "nbgrader": {
     "checksum": "4a7c672e423d9b1299aa97735564135e",
     "grade": false,
     "grade_id": "cell-02dad3a793be6726",
     "locked": true,
     "schema_version": 3,
     "solution": false,
     "task": false
    }
   },
   "source": [
    "##### Question 1:\n",
    "\n",
    "##### Define a function called filter_large_cities that accepts a dictionary representing city names and their respective populations (in millions). The function should return a list of cities with populations greater than 1.5 million people, sorted in ascending order based on their population. Use a lambda function and the filter function to return the filtered list.\n",
    "\n",
    "##### Example Input: {\"San Diego\": 1.38, \"Los Angeles\": 3.849, \"New York\": 8.468, \"Austin\": 0.964}\n",
    "##### Expected Output: [\"Los Angeles\", \"New York\"]"
   ]
  },
  {
   "cell_type": "code",
   "execution_count": 26,
   "id": "b919be0b-bf66-4d69-b4ba-e11546ffa5bb",
   "metadata": {
    "deletable": false,
    "nbgrader": {
     "checksum": "93991880fe3ba9be3777d235a839a9b8",
     "grade": true,
     "grade_id": "cell-8b0dda2fe66089ee",
     "locked": false,
     "points": 2,
     "schema_version": 3,
     "solution": true,
     "task": false
    }
   },
   "outputs": [],
   "source": [
    "def filter_large_cities(d):\n",
    "    \"\"\"\n",
    "    This function takes up a dictionary with key value pairs of cities with their population and returns\n",
    "    a sorted list with cities more than 1.5 million population.\n",
    "    \"\"\"\n",
    "    large_pop = lambda x: d[x]> 1.5 \n",
    "    city_name = list(filter(large_pop, d))\n",
    "    sorted_city_name = sorted(city_name, key = lambda x: d[x])\n",
    "    return sorted_city_name\n",
    "    raise NotImplementedError()"
   ]
  },
  {
   "cell_type": "code",
   "execution_count": 27,
   "id": "90141a14-3fdd-4a2d-be6e-4ad0218ad466",
   "metadata": {
    "deletable": false,
    "editable": false,
    "nbgrader": {
     "checksum": "78ac11c639d0397f4d27e181aafd76c1",
     "grade": true,
     "grade_id": "cell-9f050990e62a15a3",
     "locked": true,
     "points": 2,
     "schema_version": 3,
     "solution": false,
     "task": false
    }
   },
   "outputs": [],
   "source": [
    "# Test case 1\n",
    "dict_cities = {\"San Diego\": 1.38, \"Los Angeles\": 3.849, \"New York\": 8.468, \"Austin\": 0.964}\n",
    "assert filter_large_cities(dict_cities) == [\"Los Angeles\", \"New York\"]"
   ]
  },
  {
   "cell_type": "code",
   "execution_count": 28,
   "id": "e0f2a159-22ec-47fd-bf49-dd0d067f9ae4",
   "metadata": {
    "deletable": false,
    "editable": false,
    "nbgrader": {
     "checksum": "6c0b7b3d6daf9576fac40634bf5c8f4f",
     "grade": true,
     "grade_id": "cell-b2fb9b09de8291f7",
     "locked": true,
     "points": 2,
     "schema_version": 3,
     "solution": false,
     "task": false
    }
   },
   "outputs": [],
   "source": [
    "# Test case 2\n",
    "dict_cities_2 = {\"Chicago\": 2.7, \"Houston\": 2.3, \"Phoenix\": 1.7, \"Miami\": 0.6}\n",
    "assert filter_large_cities(dict_cities_2) == [\"Phoenix\", \"Houston\", \"Chicago\"]\n"
   ]
  },
  {
   "cell_type": "code",
   "execution_count": 29,
   "id": "f1447532-16b0-4aed-9e02-1c89c0418323",
   "metadata": {
    "deletable": false,
    "editable": false,
    "nbgrader": {
     "checksum": "82eb42161fc13fd1870a219553d3510f",
     "grade": true,
     "grade_id": "cell-6f9c7668909cfde8",
     "locked": true,
     "points": 2,
     "schema_version": 3,
     "solution": false,
     "task": false
    }
   },
   "outputs": [],
   "source": [
    "# Hidden test case 1. Don't alter the cell"
   ]
  },
  {
   "cell_type": "code",
   "execution_count": 30,
   "id": "b083a9d8-3fd9-4170-9990-323c6ff5c644",
   "metadata": {
    "deletable": false,
    "editable": false,
    "nbgrader": {
     "checksum": "2d55d758c962fdf509c93beb6cf79006",
     "grade": true,
     "grade_id": "cell-2e2b1983a2dba5e6",
     "locked": true,
     "points": 2,
     "schema_version": 3,
     "solution": false,
     "task": false
    }
   },
   "outputs": [],
   "source": [
    "# Hidden test case 2. Don't alter the cell"
   ]
  },
  {
   "cell_type": "markdown",
   "id": "b5f9758e-24bb-474d-915a-fb189825ae86",
   "metadata": {
    "deletable": false,
    "editable": false,
    "nbgrader": {
     "checksum": "c20e4b271aea59d6e1ccb5c5145869c1",
     "grade": false,
     "grade_id": "cell-99a43827d379bece",
     "locked": true,
     "schema_version": 3,
     "solution": false,
     "task": false
    }
   },
   "source": [
    "##### Question 2:\n",
    "##### Write a function called find_longest_unique_substring to find the length of the longest substring without repeating characters in a given string. For example, the longest substring without repeating characters in \"banana\" is \"ban\" or \"ana\" (if multiple same-length substrings are found, return the first one).\n",
    "##### Example Input: \"banana\"\n",
    "##### Expected Output: \"ban\""
   ]
  },
  {
   "cell_type": "code",
   "execution_count": 31,
   "id": "f6844289-1e60-4ae8-be72-c76c28820446",
   "metadata": {
    "deletable": false,
    "nbgrader": {
     "checksum": "42e793436759e1c4a70b1d0ce7466a6f",
     "grade": true,
     "grade_id": "cell-c4791a89eb1b344b",
     "locked": false,
     "points": 2,
     "schema_version": 3,
     "solution": true,
     "task": false
    }
   },
   "outputs": [],
   "source": [
    "def find_longest_unique_substring(s):\n",
    "    \"\"\"\n",
    "    input: string\n",
    "    output: longest substring without repeating characters\n",
    "    \"\"\"\n",
    "    j = 0 \n",
    "    sub_string = set()\n",
    "    longest_sub_str = \"\"\n",
    "    longest_length = 0\n",
    "    for i in range(len(s)):\n",
    "        while s[i] in sub_string:\n",
    "            sub_string.remove(s[j])\n",
    "            j+=1\n",
    "        sub_string.add(s[i])\n",
    "        current_length = i-j+1 \n",
    "        if current_length > longest_length:\n",
    "            longest_length = current_length \n",
    "            longest_sub_str = s[j:i+1]\n",
    "    return(longest_sub_str)\n",
    "    raise NotImplementedError()"
   ]
  },
  {
   "cell_type": "code",
   "execution_count": 32,
   "id": "bd6c7f0b-ff41-4da9-8e6b-59cda71554e7",
   "metadata": {
    "deletable": false,
    "editable": false,
    "nbgrader": {
     "checksum": "3d260f3e97e9ddefc059c0d4d40e6f70",
     "grade": true,
     "grade_id": "cell-3e057532502b5f9b",
     "locked": true,
     "points": 2,
     "schema_version": 3,
     "solution": false,
     "task": false
    }
   },
   "outputs": [],
   "source": [
    "# Test case 1\n",
    "assert find_longest_unique_substring(\"banana\") == \"ban\""
   ]
  },
  {
   "cell_type": "code",
   "execution_count": 33,
   "id": "db80bb8b-488b-4cc7-8156-1d9fc64b12ac",
   "metadata": {
    "deletable": false,
    "editable": false,
    "nbgrader": {
     "checksum": "4313441fc3f109c632ae9f87d5858cf8",
     "grade": true,
     "grade_id": "cell-22bc7f10d0c30a33",
     "locked": true,
     "points": 2,
     "schema_version": 3,
     "solution": false,
     "task": false
    }
   },
   "outputs": [],
   "source": [
    "# Test case 2\n",
    "assert find_longest_unique_substring(\"pwwkew\") == \"wke\""
   ]
  },
  {
   "cell_type": "code",
   "execution_count": 34,
   "id": "ae388c2e-79e8-4ab4-aed4-1515cb5cbec6",
   "metadata": {
    "deletable": false,
    "editable": false,
    "nbgrader": {
     "checksum": "a746c08a0c70b0234b3359417de560b5",
     "grade": true,
     "grade_id": "cell-6d66833b2d347cfc",
     "locked": true,
     "points": 2,
     "schema_version": 3,
     "solution": false,
     "task": false
    }
   },
   "outputs": [],
   "source": [
    "# Hidden test case 1. Don't alter the cell"
   ]
  },
  {
   "cell_type": "code",
   "execution_count": 35,
   "id": "75ffa36a-ae7f-41fe-990d-94a794f53867",
   "metadata": {
    "deletable": false,
    "editable": false,
    "nbgrader": {
     "checksum": "3f24fd0904170391bde100334e9dc279",
     "grade": true,
     "grade_id": "cell-7246dbffee8dfedb",
     "locked": true,
     "points": 2,
     "schema_version": 3,
     "solution": false,
     "task": false
    }
   },
   "outputs": [],
   "source": [
    "# Hidden test case 2. Don't alter the cell"
   ]
  },
  {
   "cell_type": "markdown",
   "id": "18306f15-f68b-4aca-8660-f857f4630068",
   "metadata": {
    "deletable": false,
    "editable": false,
    "nbgrader": {
     "checksum": "8d8b74307893ae3d60bcb11cd77f61ba",
     "grade": false,
     "grade_id": "cell-a35c39ab13dc1ef6",
     "locked": true,
     "schema_version": 3,
     "solution": false,
     "task": false
    }
   },
   "source": [
    "##### Question 3:\n",
    "##### Write a function called solve_simple_maze that takes a 2D list representing a maze of size MxN. The maze starts at (0, 0) and ends at (M-1, N-1). You can move only to the right or down, through cells that are \" \" (empty), but cannot move through cells that are \"X\" (blocked).\n",
    "##### There is only one path without dead ends, and you need to mark the path using the value \"P\" to indicate it is part of the solution. If the maze cannot be solved (if the start or end is blocked), return -1.\n",
    "\n",
    "##### Example Input: [[\" \", \"X\", \" \"], [\" \", \" \", \" \"], [\"X\", \"X\", \" \"]]\n",
    "##### Expected Output: [[\"P\", \"X\", \" \"], [\"P\", \"P\", \"P\"], [\"X\", \"X\", \"P\"]]\n"
   ]
  },
  {
   "cell_type": "code",
   "execution_count": 36,
   "id": "48cd95d1-ed20-4825-863e-20d43b48c310",
   "metadata": {
    "deletable": false,
    "nbgrader": {
     "checksum": "4ef007d7a20cf36b2127d5286c5e78b8",
     "grade": true,
     "grade_id": "cell-0d0b22056d9df845",
     "locked": false,
     "points": 2,
     "schema_version": 3,
     "solution": true,
     "task": false
    }
   },
   "outputs": [],
   "source": [
    "def solve_simple_maze(maze):\n",
    "    \"\"\"\n",
    "    input: 2D array\n",
    "    output: solved 2D array\n",
    "    \"\"\"\n",
    "    M = len(maze)\n",
    "    N = len(maze[0])\n",
    "    m = 0 #position in row\n",
    "    n = 0 #position in column\n",
    "    if maze[0][0] == \"X\" or maze[M-1][N-1] == \"X\":\n",
    "        return -1\n",
    "    while m < M and n < N:\n",
    "        maze[m][n] = \"P\"\n",
    "        move_right = False\n",
    "        move_down = False\n",
    "        if n+1 < N and maze[m][n+1] !=\"X\":\n",
    "            move_right = True\n",
    "        if m+1 < M and maze[m+1][n] !=\"X\":\n",
    "            move_down = True\n",
    "        if move_right == True:\n",
    "            n +=1\n",
    "        elif move_down == True:\n",
    "            m +=1\n",
    "        else:\n",
    "            return -1\n",
    "        if m == M-1 and n==N-1:\n",
    "            maze[m][n] = \"P\"\n",
    "            return maze\n",
    "    return -1\n",
    "    raise NotImplementedError()"
   ]
  },
  {
   "cell_type": "code",
   "execution_count": 37,
   "id": "104fb718-6405-4158-97e8-fe5010c30c96",
   "metadata": {
    "deletable": false,
    "editable": false,
    "nbgrader": {
     "checksum": "72ff99f837e06aa6785e8af034cbc5fd",
     "grade": true,
     "grade_id": "cell-878c32ea72004c55",
     "locked": true,
     "points": 2,
     "schema_version": 3,
     "solution": false,
     "task": false
    }
   },
   "outputs": [],
   "source": [
    "# Test case 1\n",
    "maze1 = [[\" \", \"X\", \" \"], [\" \", \" \", \" \"], [\"X\", \"X\", \" \"]]\n",
    "assert solve_simple_maze(maze1) == [[\"P\", \"X\", \" \"], [\"P\", \"P\", \"P\"], [\"X\", \"X\", \"P\"]]\n"
   ]
  },
  {
   "cell_type": "code",
   "execution_count": 38,
   "id": "e344d3d2-7162-453f-8b27-ac1add93bdeb",
   "metadata": {
    "deletable": false,
    "editable": false,
    "nbgrader": {
     "checksum": "09b9d28985e4b1a5e803bbd2249f38d0",
     "grade": true,
     "grade_id": "cell-bcff1fa76baa7064",
     "locked": true,
     "points": 2,
     "schema_version": 3,
     "solution": false,
     "task": false
    }
   },
   "outputs": [],
   "source": [
    "# Test case 2\n",
    "maze2 = [[\" \", \"X\"], [\"X\", \" \"]]\n",
    "assert solve_simple_maze(maze2) == -1  # No possible path\n"
   ]
  },
  {
   "cell_type": "code",
   "execution_count": 39,
   "id": "e986f224-8547-49e8-b2c2-b8b28f79c927",
   "metadata": {
    "deletable": false,
    "editable": false,
    "nbgrader": {
     "checksum": "b015feedc001ccb382eac971029ccc04",
     "grade": true,
     "grade_id": "cell-0a42fad61865ba6a",
     "locked": true,
     "points": 2,
     "schema_version": 3,
     "solution": false,
     "task": false
    }
   },
   "outputs": [],
   "source": [
    "# Hidden test case 1. Don't alter the cell"
   ]
  },
  {
   "cell_type": "code",
   "execution_count": 40,
   "id": "0ea921ba-2fe3-489f-80b9-f39f422fc2a8",
   "metadata": {
    "deletable": false,
    "editable": false,
    "nbgrader": {
     "checksum": "cd8cdba52d1ef470ad661d789791cdff",
     "grade": true,
     "grade_id": "cell-b195443e9af04608",
     "locked": true,
     "points": 2,
     "schema_version": 3,
     "solution": false,
     "task": false
    }
   },
   "outputs": [],
   "source": [
    "# Hidden test case 2. Don't alter the cell"
   ]
  },
  {
   "cell_type": "markdown",
   "id": "332ddbdc-3ec2-4c89-9509-3f5e35d8d5af",
   "metadata": {
    "deletable": false,
    "editable": false,
    "nbgrader": {
     "checksum": "631dd514cc9c023f7f808e6c24350112",
     "grade": false,
     "grade_id": "cell-6504d1bb20015d86",
     "locked": true,
     "schema_version": 3,
     "solution": false,
     "task": false
    }
   },
   "source": [
    "##### Question 4:\n",
    "##### You are given a list of email addresses. Write a Python function called extract_clean_company_names that extracts and returns the unique company names from the email domains in the list.\n",
    " \n",
    "##### Specifications:\n",
    "##### The function should take a single argument emails, which is a list of email addresses (strings).\n",
    "##### It should return a sorted list of unique company names extracted from the email domains in the input list.\n",
    "##### The company name is defined as the part of the email domain between \"@\" and \".\".\n",
    "##### Remove any digits from the company name before returning.\n",
    "\n",
    "##### **Example:**\n",
    "##### emails = [\n",
    "#####     \"john.doe@example1.com\",\n",
    "#####     \"jane_smith@company123.net\",\n",
    "#####     \"alice@domain.com\",\n",
    "#####     \"test.user@example.com\",\n",
    "#####     \"user@domain2.net\"\n",
    "##### ]\n",
    " \n",
    "##### **Returns**: ['company', 'domain', 'example']\n"
   ]
  },
  {
   "cell_type": "code",
   "execution_count": 41,
   "id": "87bc934a-0f5a-4456-84e3-3e3f6a9be3de",
   "metadata": {
    "deletable": false,
    "nbgrader": {
     "checksum": "6faae46e6db72458ea3de5ac0bbeffe6",
     "grade": true,
     "grade_id": "cell-3bdf9e9201b15cdf",
     "locked": false,
     "points": 2,
     "schema_version": 3,
     "solution": true,
     "task": false
    }
   },
   "outputs": [],
   "source": [
    "import re \n",
    "def extract_clean_company_names(emails):\n",
    "    \"\"\"\n",
    "    This function takes input as multiple email id's with different domain names and returns a sorted list of\n",
    "    only unique domain names altering any digits in it.\n",
    "    \"\"\"\n",
    "    company_list = set()\n",
    "\n",
    "    for i in emails:\n",
    "        company_name= re.findall('@([a-zA-Z]+)', i)\n",
    "        company_list.add(company_name[0])\n",
    "    return sorted(list(company_list))\n",
    "    raise NotImplementedError()"
   ]
  },
  {
   "cell_type": "code",
   "execution_count": 42,
   "id": "3584b2e1-2697-424a-bdc8-d17e3f6d1eca",
   "metadata": {
    "deletable": false,
    "editable": false,
    "nbgrader": {
     "checksum": "f2ce8ebc361b38304286770437d152f9",
     "grade": true,
     "grade_id": "cell-1801ccb79144ed21",
     "locked": true,
     "points": 2,
     "schema_version": 3,
     "solution": false,
     "task": false
    }
   },
   "outputs": [],
   "source": [
    "# Test case 1\n",
    "emails_1 = [\n",
    "    \"john.doe@example1.com\",\n",
    "    \"jane_smith@company123.net\",\n",
    "    \"alice@domain.com\",\n",
    "    \"test.user@example.com\",\n",
    "    \"user@domain2.net\"\n",
    "]\n",
    "result_1 = extract_clean_company_names(emails_1)\n",
    "assert result_1 == ['company', 'domain', 'example'], \"Test case 1 failed\"\n"
   ]
  },
  {
   "cell_type": "code",
   "execution_count": 43,
   "id": "e279b2a5-88a9-4d6d-8bab-10b721d3039d",
   "metadata": {
    "deletable": false,
    "editable": false,
    "nbgrader": {
     "checksum": "d08def2027a32e9cf6a76054961384fc",
     "grade": true,
     "grade_id": "cell-858916296f650fd0",
     "locked": true,
     "points": 2,
     "schema_version": 3,
     "solution": false,
     "task": false
    }
   },
   "outputs": [],
   "source": [
    "\n",
    "# Test case 2 \n",
    "emails_2 = [\n",
    "    \"john.doe@example99.com\",\n",
    "    \"jane_smith@example.net\",\n",
    "    \"alice@example3.com\"\n",
    "]\n",
    "result_2 = extract_clean_company_names(emails_2)\n",
    "assert result_2 == ['example'], \"Test case 2 failed\"\n"
   ]
  },
  {
   "cell_type": "code",
   "execution_count": 44,
   "id": "7f7f56f1-99bb-4fbe-9e3b-5f06142180cf",
   "metadata": {
    "deletable": false,
    "editable": false,
    "nbgrader": {
     "checksum": "9c758ebe49f649933bb20230576852cb",
     "grade": true,
     "grade_id": "cell-7ce24dc8a53c7543",
     "locked": true,
     "points": 2,
     "schema_version": 3,
     "solution": false,
     "task": false
    }
   },
   "outputs": [],
   "source": [
    "# Hidden test case 1. Don't alter the cell"
   ]
  },
  {
   "cell_type": "code",
   "execution_count": 45,
   "id": "05135890-761b-4d33-ba1d-38baa94c9080",
   "metadata": {
    "deletable": false,
    "editable": false,
    "nbgrader": {
     "checksum": "3f1cfd03406d03ea7fafa442adf5cd4c",
     "grade": true,
     "grade_id": "cell-8ca1dfe6891500f5",
     "locked": true,
     "points": 2,
     "schema_version": 3,
     "solution": false,
     "task": false
    }
   },
   "outputs": [],
   "source": [
    "# Hidden test case 2. Don't alter the cell"
   ]
  },
  {
   "cell_type": "markdown",
   "id": "86f8f4d7-13b4-454c-b893-3e8e5fd28600",
   "metadata": {
    "deletable": false,
    "editable": false,
    "nbgrader": {
     "checksum": "8ad252a7533da3b9d989f7056ec007bd",
     "grade": false,
     "grade_id": "cell-f497d1844f4e1cbd",
     "locked": true,
     "schema_version": 3,
     "solution": false,
     "task": false
    }
   },
   "source": [
    "##### Question 5:\n",
    "##### Write a function called generate_custom_sequence that generates a custom sequence using recursion of length n (provided as an argument).\n",
    " \n",
    " **Custom Sequence Pattern:**\n",
    " 1. The sequence starts with the values **2** and **3**.\n",
    " 2. From the **third element onward**, each element is calculated by multiplying the **last element** with the **second-to-last** element and then adding 2.\n",
    " 3. The function must use **recursion**, and loops or other methods are **not allowed**.\n",
    " \n",
    " **Recursive Case:**\n",
    " - If n > 2, recursively generate the sequence of length n-1 and then calculate the next element using the last two elements.\n",
    " \n",
    " **Examples:**\n",
    " - generate_custom_sequence(4) should return [2, 3, 8, 26].\n",
    " - generate_custom_sequence(6) should return [2, 3, 8, 26, 210, 5462].\n",
    " \n",
    " **Explanation for n = 4:**\n",
    " 1. **First two elements** are 2 and 3.\n",
    "     - So, for n = 2: [2, 3]  \n",
    "     \n",
    " 2. **Third element:**\n",
    "     - Use the formula: **Next Element = Last Element (3) * Second-to-Last Element (2) + 2**\n",
    "     - Result: 3 * 2 + 2 = 8\n",
    "     - So, for n = 3: [2, 3, 8]  \n",
    "       \n",
    " 3. **Fourth element:**\n",
    "     - Again use the formula: **Next Element = Last Element (8) * Second-to-Last Element (3) + 2**\n",
    "     - Result: 8 * 3 + 2 = 26\n",
    "     - So, for n = 4: [2, 3, 8, 26]\n",
    " "
   ]
  },
  {
   "cell_type": "code",
   "execution_count": 46,
   "id": "2b3beab4-6393-4eb6-8533-d4d336e0c80e",
   "metadata": {
    "deletable": false,
    "nbgrader": {
     "checksum": "eb60e737220ebe09c3809345ac4ba157",
     "grade": true,
     "grade_id": "cell-2e593b21bda41eb8",
     "locked": false,
     "points": 2,
     "schema_version": 3,
     "solution": true,
     "task": false
    }
   },
   "outputs": [],
   "source": [
    "def generate_custom_sequence(n):\n",
    "    \"\"\"\n",
    "    input: integer n\n",
    "    output: First n elements of the list based on the given pattern  \n",
    "    \"\"\"\n",
    "    if n == 0:\n",
    "        return False\n",
    "    if n == 1:\n",
    "        return [2]\n",
    "    if n == 2: \n",
    "        return [2,3]\n",
    "    else:\n",
    "        previous_number_list = generate_custom_sequence(n-1)\n",
    "        last_el = previous_number_list[-1]\n",
    "        second_last_el = previous_number_list[-2]\n",
    "        previous_number_list.append(last_el * second_last_el + 2)\n",
    "        return previous_number_list\n",
    "    raise NotImplementedError()"
   ]
  },
  {
   "cell_type": "code",
   "execution_count": 47,
   "id": "1a47485d-e131-433b-9372-359a31899f65",
   "metadata": {
    "deletable": false,
    "editable": false,
    "nbgrader": {
     "checksum": "bc1a35893b79b7b1f85c76504f43446b",
     "grade": true,
     "grade_id": "cell-0738dd7481f3313b",
     "locked": true,
     "points": 2,
     "schema_version": 3,
     "solution": false,
     "task": false
    }
   },
   "outputs": [],
   "source": [
    "# Test case 1\n",
    "assert generate_custom_sequence(4) == [2, 3, 8, 26], \"Test case 1 failed\"\n"
   ]
  },
  {
   "cell_type": "code",
   "execution_count": 48,
   "id": "b3cbe6db-a379-40ce-a334-2a2097095f35",
   "metadata": {
    "deletable": false,
    "editable": false,
    "nbgrader": {
     "checksum": "fbc5b3bda3c1be110dc96ea2628e31e1",
     "grade": true,
     "grade_id": "cell-d9f6a5c1f695e0b5",
     "locked": true,
     "points": 2,
     "schema_version": 3,
     "solution": false,
     "task": false
    }
   },
   "outputs": [],
   "source": [
    "# Test case 2\n",
    "assert generate_custom_sequence(6) == [2, 3, 8, 26, 210, 5462], \"Test case 2 failed\"\n"
   ]
  },
  {
   "cell_type": "code",
   "execution_count": 49,
   "id": "edde4379-a101-46da-a339-5949ae6423ed",
   "metadata": {
    "deletable": false,
    "editable": false,
    "nbgrader": {
     "checksum": "85ee62464df41001186742323af591f7",
     "grade": true,
     "grade_id": "cell-3b9dd5dcd844f70f",
     "locked": true,
     "points": 2,
     "schema_version": 3,
     "solution": false,
     "task": false
    }
   },
   "outputs": [],
   "source": [
    "# Hidden test case 1. Don't alter the cell"
   ]
  },
  {
   "cell_type": "code",
   "execution_count": 50,
   "id": "4d31a322-5ad0-419a-8651-06ceb04351a2",
   "metadata": {
    "deletable": false,
    "editable": false,
    "nbgrader": {
     "checksum": "a2fc7e539bf937498c42b9387a16de2b",
     "grade": true,
     "grade_id": "cell-8b31de529b09dbd5",
     "locked": true,
     "points": 2,
     "schema_version": 3,
     "solution": false,
     "task": false
    }
   },
   "outputs": [],
   "source": [
    "# Hidden test case 2. Don't alter the cell"
   ]
  },
  {
   "cell_type": "code",
   "execution_count": null,
   "id": "0c3e1b4a-fb59-4a73-b585-965b41bbd521",
   "metadata": {},
   "outputs": [],
   "source": []
  },
  {
   "cell_type": "code",
   "execution_count": null,
   "id": "ae5b5661-b803-479f-82e3-4652c15c387f",
   "metadata": {},
   "outputs": [],
   "source": []
  },
  {
   "cell_type": "code",
   "execution_count": null,
   "id": "c17380d1-05f8-441a-bebe-9da6e0bc31c0",
   "metadata": {},
   "outputs": [],
   "source": []
  }
 ],
 "metadata": {
  "kernelspec": {
   "display_name": "Python 3 (ipykernel)",
   "language": "python",
   "name": "python3"
  },
  "language_info": {
   "codemirror_mode": {
    "name": "ipython",
    "version": 3
   },
   "file_extension": ".py",
   "mimetype": "text/x-python",
   "name": "python",
   "nbconvert_exporter": "python",
   "pygments_lexer": "ipython3",
   "version": "3.11.9"
  }
 },
 "nbformat": 4,
 "nbformat_minor": 5
}
