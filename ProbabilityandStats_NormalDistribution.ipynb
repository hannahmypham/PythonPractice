{
 "cells": [
  {
   "cell_type": "code",
   "execution_count": null,
   "id": "3aabeb7a",
   "metadata": {},
   "outputs": [],
   "source": [
    "Probability "
   ]
  }
 ],
 "metadata": {
  "language_info": {
   "name": "python"
  }
 },
 "nbformat": 4,
 "nbformat_minor": 5
}
